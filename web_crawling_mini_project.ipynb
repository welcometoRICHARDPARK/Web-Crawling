{
 "cells": [
  {
   "cell_type": "code",
   "execution_count": 3,
   "id": "75e92af7",
   "metadata": {},
   "outputs": [],
   "source": [
    "import pandas as pd"
   ]
  },
  {
   "cell_type": "code",
   "execution_count": 8,
   "id": "d126e093",
   "metadata": {},
   "outputs": [
    {
     "name": "stdout",
     "output_type": "stream",
     "text": [
      "table length >>>>  3\n",
      "<class 'list'>\n"
     ]
    }
   ],
   "source": [
    "item_code = \"005930\"\n",
    "item_name = \"삼성전자\"\n",
    "page_no = 1"
   ]
  },
  {
   "cell_type": "code",
   "execution_count": null,
   "id": "f10f539a",
   "metadata": {},
   "outputs": [],
   "source": [
    "# get_url item_code, page_no 를 넘기면 url 을 반환하는 함수\n",
    "def get_url(item_code, page_no) :\n",
    "    url = f\"https://finance.naver.com/item/news_news.nhn?code={item_code}&page={page_no}&sm=title_entity_id.basic&clusterId=\"\n",
    "    return url"
   ]
  },
  {
   "cell_type": "code",
   "execution_count": 46,
   "id": "cb51f103",
   "metadata": {},
   "outputs": [],
   "source": [
    "# get_one_page_news(뉴스 한페이지 받아오는) 함수 만들기\n",
    "def get_one_page_news(item_code, page_no) :\n",
    "    url = f\"https://finance.naver.com/item/news_news.nhn?code={item_code}&page={page_no}&sm=title_entity_id.basic&clusterId=\"\n",
    "    table = pd.read_html(url, encoding=\"cp949\")\n",
    "    \n",
    "    temp_list = []\n",
    "    cols = table[0].columns\n",
    "    for news in table[:-1] :\n",
    "        news.columns = cols\n",
    "        temp_list.append(news)\n",
    "        \n",
    "    df_temp = pd.concat(temp_list)\n",
    "    df_temp = df_temp.dropna(how='all', axis=0).dropna(how='all', axis=1)\n",
    "    df = df_temp[~df_temp['제목'].str.contains('연관기사')]\n",
    "    return df"
   ]
  },
  {
   "cell_type": "code",
   "execution_count": 47,
   "id": "fb975081",
   "metadata": {},
   "outputs": [
    {
     "data": {
      "text/html": [
       "<div>\n",
       "<style scoped>\n",
       "    .dataframe tbody tr th:only-of-type {\n",
       "        vertical-align: middle;\n",
       "    }\n",
       "\n",
       "    .dataframe tbody tr th {\n",
       "        vertical-align: top;\n",
       "    }\n",
       "\n",
       "    .dataframe thead th {\n",
       "        text-align: right;\n",
       "    }\n",
       "</style>\n",
       "<table border=\"1\" class=\"dataframe\">\n",
       "  <thead>\n",
       "    <tr style=\"text-align: right;\">\n",
       "      <th></th>\n",
       "      <th>제목</th>\n",
       "      <th>정보제공</th>\n",
       "      <th>날짜</th>\n",
       "    </tr>\n",
       "  </thead>\n",
       "  <tbody>\n",
       "    <tr>\n",
       "      <th>0</th>\n",
       "      <td>삼성도 매일 줄 서서 사온다…바이든이 서명한 '웨이퍼' 뭐길래 [박신영...</td>\n",
       "      <td>한국경제</td>\n",
       "      <td>2022.05.21 14:26</td>\n",
       "    </tr>\n",
       "    <tr>\n",
       "      <th>1</th>\n",
       "      <td>삼성 반도체 공장 둘러보던 바이든, 뜬금없이 \"투표 잊지 마라\" 왜?</td>\n",
       "      <td>매일경제</td>\n",
       "      <td>2022.05.21 09:52</td>\n",
       "    </tr>\n",
       "    <tr>\n",
       "      <th>2</th>\n",
       "      <td>바이든, 삼성 직원에 \"땡큐\"…이재용, 한미정상 이틀연속 만나 '경제외...</td>\n",
       "      <td>헤럴드경제</td>\n",
       "      <td>2022.05.21 08:51</td>\n",
       "    </tr>\n",
       "    <tr>\n",
       "      <th>3</th>\n",
       "      <td>\"TSMC 보고 있나\"…바이든 앞 'GAA 3나노' 뽐낸 삼성전자 [강...</td>\n",
       "      <td>한국경제</td>\n",
       "      <td>2022.05.21 08:32</td>\n",
       "    </tr>\n",
       "    <tr>\n",
       "      <th>4</th>\n",
       "      <td>삼성전자 1분기 R&amp;D에만 6조원 쐈다…특허획득 건수 봤더니 [비즈36...</td>\n",
       "      <td>헤럴드경제</td>\n",
       "      <td>2022.05.21 08:02</td>\n",
       "    </tr>\n",
       "    <tr>\n",
       "      <th>5</th>\n",
       "      <td>\"21세기 진정한 격전지\"…외신, 삼성부터 찾은 바이든 주목(종합)</td>\n",
       "      <td>이데일리</td>\n",
       "      <td>2022.05.21 07:04</td>\n",
       "    </tr>\n",
       "    <tr>\n",
       "      <th>6</th>\n",
       "      <td>삼성전자 드디어 올랐는데…인플레 공포 이겨낼까</td>\n",
       "      <td>이데일리</td>\n",
       "      <td>2022.05.21 01:43</td>\n",
       "    </tr>\n",
       "    <tr>\n",
       "      <th>7</th>\n",
       "      <td>바이든 두 손 모으고 '반도체' 경청…삼성 직원에 \"땡큐\"</td>\n",
       "      <td>서울경제</td>\n",
       "      <td>2022.05.20 22:21</td>\n",
       "    </tr>\n",
       "    <tr>\n",
       "      <th>8</th>\n",
       "      <td>'갤럭시 버즈2 포켓몬' 삼성닷컴서 8분 만에 완판</td>\n",
       "      <td>한국경제</td>\n",
       "      <td>2022.05.20 22:08</td>\n",
       "    </tr>\n",
       "    <tr>\n",
       "      <th>10</th>\n",
       "      <td>\"또 콜라보 완판\"…삼성, 버즈2 몬스터볼 8분만에 판매 종료</td>\n",
       "      <td>서울경제</td>\n",
       "      <td>2022.05.20 15:25</td>\n",
       "    </tr>\n",
       "    <tr>\n",
       "      <th>11</th>\n",
       "      <td>“8분만에 동났다고?”…삼성 ‘갤버즈2 포켓몬 에디션' 완판</td>\n",
       "      <td>이데일리</td>\n",
       "      <td>2022.05.20 14:26</td>\n",
       "    </tr>\n",
       "    <tr>\n",
       "      <th>12</th>\n",
       "      <td>삼성의 '포켓몬마케팅' 2연타…플립3 이어 버즈2도 5분새 완판</td>\n",
       "      <td>매일경제</td>\n",
       "      <td>2022.05.20 14:02</td>\n",
       "    </tr>\n",
       "    <tr>\n",
       "      <th>13</th>\n",
       "      <td>\"韓 반도체 공급망 역할 부각\"…외신들, 바이든의 삼성 방문 주목</td>\n",
       "      <td>이데일리</td>\n",
       "      <td>2022.05.20 21:58</td>\n",
       "    </tr>\n",
       "    <tr>\n",
       "      <th>0</th>\n",
       "      <td>\"또 콜라보 완판\"…삼성, 버즈2 몬스터볼 8분만에 판매 종료</td>\n",
       "      <td>서울경제</td>\n",
       "      <td>2022.05.20 15:25</td>\n",
       "    </tr>\n",
       "    <tr>\n",
       "      <th>1</th>\n",
       "      <td>“8분만에 동났다고?”…삼성 ‘갤버즈2 포켓몬 에디션' 완판</td>\n",
       "      <td>이데일리</td>\n",
       "      <td>2022.05.20 14:26</td>\n",
       "    </tr>\n",
       "    <tr>\n",
       "      <th>2</th>\n",
       "      <td>삼성의 '포켓몬마케팅' 2연타…플립3 이어 버즈2도 5분새 완판</td>\n",
       "      <td>매일경제</td>\n",
       "      <td>2022.05.20 14:02</td>\n",
       "    </tr>\n",
       "  </tbody>\n",
       "</table>\n",
       "</div>"
      ],
      "text/plain": [
       "                                            제목   정보제공                날짜\n",
       "0   삼성도 매일 줄 서서 사온다…바이든이 서명한 '웨이퍼' 뭐길래 [박신영...   한국경제  2022.05.21 14:26\n",
       "1       삼성 반도체 공장 둘러보던 바이든, 뜬금없이 \"투표 잊지 마라\" 왜?   매일경제  2022.05.21 09:52\n",
       "2   바이든, 삼성 직원에 \"땡큐\"…이재용, 한미정상 이틀연속 만나 '경제외...  헤럴드경제  2022.05.21 08:51\n",
       "3   \"TSMC 보고 있나\"…바이든 앞 'GAA 3나노' 뽐낸 삼성전자 [강...   한국경제  2022.05.21 08:32\n",
       "4   삼성전자 1분기 R&D에만 6조원 쐈다…특허획득 건수 봤더니 [비즈36...  헤럴드경제  2022.05.21 08:02\n",
       "5        \"21세기 진정한 격전지\"…외신, 삼성부터 찾은 바이든 주목(종합)   이데일리  2022.05.21 07:04\n",
       "6                    삼성전자 드디어 올랐는데…인플레 공포 이겨낼까   이데일리  2022.05.21 01:43\n",
       "7             바이든 두 손 모으고 '반도체' 경청…삼성 직원에 \"땡큐\"   서울경제  2022.05.20 22:21\n",
       "8                 '갤럭시 버즈2 포켓몬' 삼성닷컴서 8분 만에 완판   한국경제  2022.05.20 22:08\n",
       "10          \"또 콜라보 완판\"…삼성, 버즈2 몬스터볼 8분만에 판매 종료   서울경제  2022.05.20 15:25\n",
       "11           “8분만에 동났다고?”…삼성 ‘갤버즈2 포켓몬 에디션' 완판   이데일리  2022.05.20 14:26\n",
       "12         삼성의 '포켓몬마케팅' 2연타…플립3 이어 버즈2도 5분새 완판   매일경제  2022.05.20 14:02\n",
       "13        \"韓 반도체 공급망 역할 부각\"…외신들, 바이든의 삼성 방문 주목   이데일리  2022.05.20 21:58\n",
       "0           \"또 콜라보 완판\"…삼성, 버즈2 몬스터볼 8분만에 판매 종료   서울경제  2022.05.20 15:25\n",
       "1            “8분만에 동났다고?”…삼성 ‘갤버즈2 포켓몬 에디션' 완판   이데일리  2022.05.20 14:26\n",
       "2          삼성의 '포켓몬마케팅' 2연타…플립3 이어 버즈2도 5분새 완판   매일경제  2022.05.20 14:02"
      ]
     },
     "execution_count": 47,
     "metadata": {},
     "output_type": "execute_result"
    }
   ],
   "source": [
    "get_one_page_news(item_code, page_no)"
   ]
  },
  {
   "cell_type": "code",
   "execution_count": 48,
   "id": "56f823fc",
   "metadata": {},
   "outputs": [],
   "source": [
    "#commit practice"
   ]
  },
  {
   "cell_type": "code",
   "execution_count": 49,
   "id": "9a7ee35a",
   "metadata": {},
   "outputs": [
    {
     "name": "stderr",
     "output_type": "stream",
     "text": [
      "100%|██████████| 10/10 [00:01<00:00,  6.88it/s]\n"
     ]
    }
   ],
   "source": [
    "# 반복문을 통해 10페이지 수집\n",
    "import time\n",
    "from tqdm import trange\n",
    "\n",
    "page_no = 0\n",
    "news_list = []\n",
    "\n",
    "for page_no in trange(1, 11):\n",
    "    df_temp = get_one_page_news(item_code, page_no)\n",
    "    time.sleep(0.01)\n",
    "    news_list.append(df_temp)"
   ]
  },
  {
   "cell_type": "code",
   "execution_count": 50,
   "id": "4f3d2822",
   "metadata": {},
   "outputs": [],
   "source": [
    "# 수집한 news를 pandas를 활용하여 dataframe으로 만들기 \n",
    "df_news = pd.concat(news_list).reset_index(drop=True)"
   ]
  },
  {
   "cell_type": "code",
   "execution_count": 51,
   "id": "0586e7ab",
   "metadata": {},
   "outputs": [],
   "source": [
    "# commit practice "
   ]
  },
  {
   "cell_type": "code",
   "execution_count": null,
   "id": "7d10366c",
   "metadata": {},
   "outputs": [],
   "source": [
    "# save as csv file\n",
    "def save_as_csv(item_code, item_name) :\n",
    "    \n",
    "file_name = f\"news_{item_code}_{item_name}.csv\"\n",
    "df_news.to_csv(file_name, index=False)"
   ]
  }
 ],
 "metadata": {
  "kernelspec": {
   "display_name": "Python 3",
   "language": "python",
   "name": "python3"
  },
  "language_info": {
   "codemirror_mode": {
    "name": "ipython",
    "version": 3
   },
   "file_extension": ".py",
   "mimetype": "text/x-python",
   "name": "python",
   "nbconvert_exporter": "python",
   "pygments_lexer": "ipython3",
   "version": "3.8.8"
  }
 },
 "nbformat": 4,
 "nbformat_minor": 5
}
